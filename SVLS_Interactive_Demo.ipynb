{
  "nbformat": 4,
  "nbformat_minor": 0,
  "metadata": {
    "accelerator": "GPU",
    "colab": {
      "name": "SVLS_Interactive_Demo.ipynb",
      "provenance": [],
      "include_colab_link": true
    },
    "kernelspec": {
      "display_name": "Python 3",
      "name": "python3"
    }
  },
  "cells": [
    {
      "cell_type": "markdown",
      "metadata": {
        "id": "view-in-github",
        "colab_type": "text"
      },
      "source": [
        "<a href=\"https://colab.research.google.com/github/mobarakol/SVLS/blob/main/SVLS_Interactive_Demo.ipynb\" target=\"_parent\"><img src=\"https://colab.research.google.com/assets/colab-badge.svg\" alt=\"Open In Colab\"/></a>"
      ]
    },
    {
      "cell_type": "markdown",
      "metadata": {
        "id": "AQ5MCVytMBzZ"
      },
      "source": [
        "# Spatially Varying Label Smoothing: Capturing Uncertainty from Expert Annotations\n",
        "[Preprint](https://arxiv.org/pdf/2104.05788.pdf)\n",
        "[Code](https://github.com/mobarakol/SVLS)"
      ]
    },
    {
      "cell_type": "markdown",
      "metadata": {
        "id": "DiSbpb1EwjnY"
      },
      "source": [
        "Downloading SVLS and Surface Dice codes"
      ]
    },
    {
      "cell_type": "code",
      "metadata": {
        "colab": {
          "base_uri": "https://localhost:8080/"
        },
        "id": "xFNfvBfdKsT7",
        "outputId": "37b775d0-b1a9-4de1-f2ad-65c4493f2974"
      },
      "source": [
        "!rm -rf SVLS\n",
        "!git clone https://github.com/mobarakol/SVLS.git\n",
        "%cd SVLS\n",
        "!git clone https://github.com/deepmind/surface-distance.git\n",
        "!mv surface-distance surface_distance"
      ],
      "execution_count": 1,
      "outputs": [
        {
          "output_type": "stream",
          "name": "stdout",
          "text": [
            "Cloning into 'SVLS'...\n",
            "remote: Enumerating objects: 394, done.\u001b[K\n",
            "remote: Counting objects: 100% (394/394), done.\u001b[K\n",
            "remote: Compressing objects: 100% (56/56), done.\u001b[K\n",
            "remote: Total 394 (delta 348), reused 372 (delta 336), pack-reused 0\u001b[K\n",
            "Receiving objects: 100% (394/394), 66.33 KiB | 2.76 MiB/s, done.\n",
            "Resolving deltas: 100% (348/348), done.\n",
            "/content/SVLS\n",
            "Cloning into 'surface-distance'...\n",
            "remote: Enumerating objects: 50, done.\u001b[K\n",
            "remote: Counting objects: 100% (17/17), done.\u001b[K\n",
            "remote: Compressing objects: 100% (10/10), done.\u001b[K\n",
            "remote: Total 50 (delta 11), reused 8 (delta 7), pack-reused 33\u001b[K\n",
            "Unpacking objects: 100% (50/50), 36.65 KiB | 1.18 MiB/s, done.\n"
          ]
        }
      ]
    },
    {
      "cell_type": "markdown",
      "metadata": {
        "id": "QZNhk4-Od3FR"
      },
      "source": [
        "Install require packages:"
      ]
    },
    {
      "cell_type": "code",
      "metadata": {
        "colab": {
          "base_uri": "https://localhost:8080/"
        },
        "id": "JdbUhZNUd6kl",
        "outputId": "b39cf47a-8663-42ac-d11c-0fd98a04596a"
      },
      "source": [
        "!pip install -U -q SimpleITK"
      ],
      "execution_count": 2,
      "outputs": [
        {
          "output_type": "stream",
          "name": "stdout",
          "text": [
            "\u001b[2K     \u001b[90m━━━━━━━━━━━━━━━━━━━━━━━━━━━━━━━━━━━━━━━━\u001b[0m \u001b[32m52.7/52.7 MB\u001b[0m \u001b[31m14.0 MB/s\u001b[0m eta \u001b[36m0:00:00\u001b[0m\n",
            "\u001b[?25h"
          ]
        }
      ]
    },
    {
      "cell_type": "markdown",
      "metadata": {
        "id": "FBq96oSpM7Da"
      },
      "source": [
        "### Download Dataset and Trained Models"
      ]
    },
    {
      "cell_type": "code",
      "metadata": {
        "id": "keDB9x0yNH4J"
      },
      "source": [
        "!pip install -U -q PyDrive\n",
        "from pydrive.auth import GoogleAuth\n",
        "from pydrive.drive import GoogleDrive\n",
        "from google.colab import auth\n",
        "from oauth2client.client import GoogleCredentials\n",
        "\n",
        "# Authenticate and create the PyDrive client.\n",
        "auth.authenticate_user()\n",
        "gauth = GoogleAuth()\n",
        "gauth.credentials = GoogleCredentials.get_application_default()\n",
        "drive = GoogleDrive(gauth)"
      ],
      "execution_count": 3,
      "outputs": []
    },
    {
      "cell_type": "markdown",
      "metadata": {
        "id": "zgGSo3tNNwaF"
      },
      "source": [
        "Trained Models: https://drive.google.com/file/d/1evE2VqBGdY-0VPB8OeArHMPdRXhWuxFm/view?usp=sharing <br>\n",
        "Validation Data: https://drive.google.com/file/d/1oZ9z-l9lBjKGNZCCTK819Z1ufwe90mg3/view?usp=sharing"
      ]
    },
    {
      "cell_type": "code",
      "metadata": {
        "id": "lhX7jTGxNxEr"
      },
      "source": [
        "ids = ['1evE2VqBGdY-0VPB8OeArHMPdRXhWuxFm', '1oZ9z-l9lBjKGNZCCTK819Z1ufwe90mg3']\n",
        "zip_files = ['ckpt_brats19.zip','train_valid.zip']\n",
        "for id, zip_file in zip(ids, zip_files):\n",
        "    downloaded = drive.CreateFile({'id':id})\n",
        "    downloaded.GetContentFile(zip_file)\n",
        "    !unzip -q $zip_file"
      ],
      "execution_count": 6,
      "outputs": []
    },
    {
      "cell_type": "markdown",
      "metadata": {
        "id": "m0PdKAYPWBx8"
      },
      "source": [
        "Demo"
      ]
    },
    {
      "cell_type": "code",
      "metadata": {
        "colab": {
          "base_uri": "https://localhost:8080/",
          "height": 640
        },
        "id": "ZkknSZEls29B",
        "outputId": "12cc9fff-56e0-42dc-fd65-97925ac855e1"
      },
      "source": [
        "import argparse\n",
        "import os\n",
        "import numpy as np\n",
        "import pathlib\n",
        "import torch\n",
        "from torch.nn import functional as F\n",
        "from model import UNet3D\n",
        "from datasets import get_datasets_brats\n",
        "from utils import seed_everything, EDiceLoss\n",
        "from calibration_metrics import ece_eval, tace_eval, reliability_diagram\n",
        "import warnings\n",
        "warnings.filterwarnings(\"ignore\")\n",
        "\n",
        "def step_valid(data_loader, model, metric):\n",
        "    ece_all, acc_all, conf_all, tace_all = [], [], [], []\n",
        "    losses, metrics, metrics_sd = [], [], []\n",
        "    model.eval()\n",
        "    for i, batch in enumerate(data_loader):\n",
        "        targets = batch[\"label\"].squeeze(1).cuda(non_blocking=True)\n",
        "        inputs = batch[\"image\"].float().cuda()\n",
        "        segs = model(inputs)\n",
        "        outputs = F.softmax(segs, dim=1).detach().cpu().numpy()\n",
        "        if len(targets.shape) < 4:#if batch size=1\n",
        "            targets = targets.unsqueeze(0)\n",
        "        labels = targets.detach().cpu().numpy()\n",
        "\n",
        "        ece, acc, conf, _ = ece_eval(outputs,labels)\n",
        "        tace, _, _, _ = tace_eval(outputs,labels)\n",
        "        ece_all.append(ece)\n",
        "        acc_all.append(acc)\n",
        "        conf_all.append(conf)\n",
        "        tace_all.append(tace)\n",
        "        segs = segs.data.max(1)[1].squeeze_(1)\n",
        "        metric_ = metric.metric_brats(segs, targets)\n",
        "        metrics_sd.extend(metric.get_surface_dice(segs.detach().cpu().numpy(), targets.detach().cpu().numpy()))\n",
        "        metrics.extend(metric_)\n",
        "\n",
        "    ece_avg = np.stack(ece_all).mean(0)\n",
        "    acc_avg = np.stack(acc_all).mean(0)\n",
        "    conf_avg = np.stack(conf_all).mean(0)\n",
        "    tace_avg = np.stack(tace_all).mean(0)\n",
        "    return metrics, metrics_sd, ece_avg, acc_avg, conf_avg, tace_avg\n",
        "\n",
        "def main():\n",
        "    parser = argparse.ArgumentParser(description='SVLS Brats Training')\n",
        "    parser.add_argument('--batch_size', default=2, type=int,help='mini-batch size')\n",
        "    parser.add_argument('--num_classes', default=4, type=int, help=\"num of classes\")\n",
        "    parser.add_argument('--in_channels', default=4, type=int, help=\"num of input channels\")\n",
        "    parser.add_argument('--train_option', default='SVLS', help=\"options:[SVLS, LS, OH]\")\n",
        "    parser.add_argument('--epochs', default=200, type=int, help='number of total epochs to run')\n",
        "    parser.add_argument('--data_root', default='train_valid', help='data directory')\n",
        "    parser.add_argument('--ckpt_dir', default='ckpt_brats19', help='ckpt directory')\n",
        "    args = parser.parse_args(args=[])\n",
        "\n",
        "    _, val_dataset = get_datasets_brats(data_root=args.data_root)\n",
        "    val_loader = torch.utils.data.DataLoader(val_dataset, batch_size=args.batch_size, shuffle=False,\n",
        "        pin_memory=False, num_workers=2)\n",
        "\n",
        "    print('valid sample:',len(val_dataset), 'valid minibatch:',len(val_loader))\n",
        "\n",
        "    model = UNet3D(inplanes=args.in_channels, num_classes=args.num_classes).cuda()\n",
        "\n",
        "    model = torch.nn.DataParallel(model)\n",
        "    criterion_dice = EDiceLoss().cuda()\n",
        "\n",
        "    legends = ['OH', 'LS(0.1)', 'LS(0.2)', 'LS(0.3)', 'SVLS']\n",
        "    model_list = ['best_oh.pth.tar', 'best_ls0.1.pth.tar', 'best_ls0.2.pth.tar', 'best_ls0.3.pth.tar', 'best_svls.pth.tar']\n",
        "    for model_name, legend in zip(model_list, legends):\n",
        "        model.load_state_dict(torch.load(os.path.join(args.ckpt_dir, model_name)))\n",
        "        model.eval()\n",
        "        with torch.no_grad():\n",
        "            dice_metrics, metrics_sd, ece_avg, acc_avg, conf_avg, tace_avg = step_valid(val_loader, model, criterion_dice)\n",
        "        if legend != 'LS(0.3)':\n",
        "            reliability_diagram(conf_avg, acc_avg, legend=legend)\n",
        "        dice_metrics = list(zip(*dice_metrics))\n",
        "        dice_metrics = [torch.tensor(dice, device=\"cpu\").numpy() for dice in dice_metrics]\n",
        "        avg_dices = np.mean(dice_metrics,1)\n",
        "        avg_std = np.std(dice_metrics,1)\n",
        "\n",
        "        metrics_sd = list(zip(*metrics_sd))\n",
        "        metrics_sd = [torch.tensor(dice, device=\"cpu\").numpy() for dice in metrics_sd]\n",
        "        avg_sd = np.mean(metrics_sd,1)\n",
        "        avg_std_sd = np.std(metrics_sd,1)\n",
        "\n",
        "        print('model:%s , dice[ET:%.3f ± %.3f, TC:%.3f ± %.3f, WT:%.3f ± %.3f], ECE:%.4f, TACE:%.4f'%(\n",
        "            model_name, avg_dices[0],avg_std[0], avg_dices[1],avg_std[1], avg_dices[2],avg_std[2], ece_avg, tace_avg))\n",
        "\n",
        "        print('model:%s , Surface dice[ET:%.3f ± %.3f, TC:%.3f ± %.3f, WT:%.3f ± %.3f]'%(\n",
        "            model_name, avg_sd[0],avg_std_sd[0], avg_sd[1],avg_std_sd[1], avg_sd[2],avg_std_sd[2]))\n",
        "\n",
        "if __name__ == '__main__':\n",
        "    seed_everything()\n",
        "    main()\n"
      ],
      "execution_count": 15,
      "outputs": [
        {
          "output_type": "stream",
          "name": "stdout",
          "text": [
            "valid sample: 66 valid minibatch: 33\n",
            "model:best_oh.pth.tar , dice[ET:0.802 ± 0.179, TC:0.861 ± 0.128, WT:0.892 ± 0.074], ECE:0.0768, TACE:0.0041\n",
            "model:best_oh.pth.tar , Surface dice[ET:0.916 ± 0.196, TC:0.862 ± 0.181, WT:0.894 ± 0.147]\n",
            "model:best_ls0.1.pth.tar , dice[ET:0.825 ± 0.152, TC:0.873 ± 0.131, WT:0.892 ± 0.071], ECE:0.0659, TACE:0.0025\n",
            "model:best_ls0.1.pth.tar , Surface dice[ET:0.933 ± 0.169, TC:0.888 ± 0.175, WT:0.911 ± 0.121]\n",
            "model:best_ls0.2.pth.tar , dice[ET:0.819 ± 0.148, TC:0.861 ± 0.135, WT:0.892 ± 0.070], ECE:0.0931, TACE:0.0049\n",
            "model:best_ls0.2.pth.tar , Surface dice[ET:0.929 ± 0.185, TC:0.879 ± 0.183, WT:0.906 ± 0.127]\n",
            "model:best_ls0.3.pth.tar , dice[ET:0.788 ± 0.209, TC:0.858 ± 0.161, WT:0.891 ± 0.072], ECE:0.1467, TACE:0.0073\n",
            "model:best_ls0.3.pth.tar , Surface dice[ET:0.914 ± 0.195, TC:0.873 ± 0.188, WT:0.919 ± 0.113]\n",
            "model:best_svls.pth.tar , dice[ET:0.817 ± 0.138, TC:0.864 ± 0.118, WT:0.895 ± 0.064], ECE:0.0614, TACE:0.0040\n",
            "model:best_svls.pth.tar , Surface dice[ET:0.937 ± 0.161, TC:0.884 ± 0.160, WT:0.941 ± 0.082]\n"
          ]
        },
        {
          "output_type": "display_data",
          "data": {
            "text/plain": [
              "<Figure size 640x480 with 1 Axes>"
            ],
            "image/png": "[encoded data removed]"
          },
          "metadata": {}
        }
      ]
    },
    {
      "cell_type": "markdown",
      "source": [
        "Saving the prediction: same size as training"
      ],
      "metadata": {
        "id": "PX_ri7M1KBrs"
      }
    },
    {
      "cell_type": "code",
      "source": [
        "import argparse\n",
        "import os\n",
        "import numpy as np\n",
        "import pathlib\n",
        "import torch\n",
        "from torch.nn import functional as F\n",
        "from model import UNet3D\n",
        "from datasets import get_datasets_brats\n",
        "from utils import seed_everything, EDiceLoss\n",
        "import nibabel as nib\n",
        "import numpy as np\n",
        "import SimpleITK as sitk\n",
        "import random\n",
        "from glob import glob\n",
        "from torch.utils.data.dataset import Dataset\n",
        "import torch.nn.functional as F\n",
        "from torch.utils.data._utils.collate import default_collate\n",
        "from datasets import custom_collate, determinist_collate, pad_batch_to_max_shape, \\\n",
        "pad_batch1_to_compatible_size, irm_min_max_preprocess, pad_or_crop_image\n",
        "\n",
        "import warnings\n",
        "warnings.filterwarnings(\"ignore\")\n",
        "\n",
        "\n",
        "parser = argparse.ArgumentParser(description='SVLS Brats Training')\n",
        "parser.add_argument('--batch_size', default=2, type=int,help='mini-batch size')\n",
        "parser.add_argument('--num_classes', default=4, type=int, help=\"num of classes\")\n",
        "parser.add_argument('--in_channels', default=4, type=int, help=\"num of input channels\")\n",
        "parser.add_argument('--train_option', default='SVLS', help=\"options:[SVLS, LS, OH]\")\n",
        "parser.add_argument('--epochs', default=200, type=int, help='number of total epochs to run')\n",
        "parser.add_argument('--data_root', default='train_valid', help='data directory')\n",
        "parser.add_argument('--ckpt_dir', default='ckpt_brats19', help='ckpt directory')\n",
        "args = parser.parse_args(args=[])\n",
        "\n",
        "def get_datasets_brats(data_root=None, normalisation=\"zscore\"):\n",
        "\n",
        "    data_root = pathlib.Path(data_root)\n",
        "    base_folder_train = pathlib.Path('data/BraTS19/train_train/').resolve()\n",
        "    base_folder_valid = pathlib.Path('data/BraTS19/train_valid/').resolve()\n",
        "    patients_dir_train = sorted([data_root/x.name for x in base_folder_train.iterdir() if (data_root/x.name).is_dir()])\n",
        "    patients_dir_valid = sorted([data_root/x.name for x in base_folder_valid.iterdir() if (data_root/x.name).is_dir()])\n",
        "    train_dataset = brats19(patients_dir_train, training=True, normalisation=normalisation)\n",
        "    val_dataset = brats19(patients_dir_valid, training=False, normalisation=normalisation)\n",
        "    return train_dataset, val_dataset\n",
        "\n",
        "\n",
        "class brats19(Dataset):\n",
        "    def __init__(self, patients_dir, training=True, no_seg=False, normalisation=\"minmax\"):\n",
        "        super(brats19, self).__init__()\n",
        "        self.normalisation = normalisation\n",
        "        self.training = training\n",
        "        self.datas = []\n",
        "        self.validation = no_seg\n",
        "        self.patterns = [ \"_flair\", \"_t1\", \"_t1ce\", \"_t2\"]\n",
        "        self.mean = dict(flair=0.0860377, t1=0.1216296, t1ce=0.07420689, t2=0.09033176)\n",
        "        if not no_seg:\n",
        "            self.patterns += [\"_seg\"]\n",
        "        for patient_dir in patients_dir:\n",
        "            patient_id = patient_dir.name\n",
        "            paths = [patient_dir / f\"{patient_id}{value}.nii.gz\" for value in self.patterns]\n",
        "            patient = dict(\n",
        "                id=patient_id, flair=paths[0], t1=paths[1], t1ce=paths[2],\n",
        "                t2=paths[3], seg=paths[4] if not no_seg else None\n",
        "            )\n",
        "            self.datas.append(patient)\n",
        "\n",
        "    def __getitem__(self, idx):\n",
        "        _patient = self.datas[idx]\n",
        "        patient_image = {key: self.load_nii(_patient[key]) for key in _patient if key not in [\"id\", \"seg\"]}\n",
        "        if _patient[\"seg\"] is not None:\n",
        "            patient_label = self.load_nii(_patient[\"seg\"])\n",
        "\n",
        "        patient_image = {key: (irm_min_max_preprocess(patient_image[key]) - self.mean[key]) for key in patient_image}\n",
        "        patient_image = np.stack([patient_image[key] for key in patient_image])\n",
        "        patient_label[patient_label==4] = 3\n",
        "        patient_label = patient_label[None,:,:,:]\n",
        "\n",
        "        # Remove maximum extent of the zero-background to make future crop more useful\n",
        "        z_indexes, y_indexes, x_indexes = np.nonzero(np.sum(patient_image, axis=0) != 0)\n",
        "\n",
        "        # Add 1 pixel in each side\n",
        "        zmin, ymin, xmin = [max(0, int(np.min(arr) - 1)) for arr in (z_indexes, y_indexes, x_indexes)]\n",
        "        zmax, ymax, xmax = [int(np.max(arr) + 1) for arr in (z_indexes, y_indexes, x_indexes)]\n",
        "        patient_image = patient_image[:, 13:141, 24:216, 24:216]\n",
        "        patient_image, patient_label = patient_image.astype(\"float16\"), patient_label.astype(\"long\")\n",
        "        patient_image, patient_label = [torch.from_numpy(x) for x in [patient_image, patient_label]]\n",
        "        return dict(patient_id=_patient[\"id\"],\n",
        "                    image=patient_image, label=patient_label,\n",
        "                    seg_path=str(_patient[\"seg\"]),\n",
        "                    crop_indexes=((zmin, zmax), (ymin, ymax), (xmin, xmax)),\n",
        "                    )\n",
        "\n",
        "    @staticmethod\n",
        "    def load_nii(path_folder):\n",
        "        return sitk.GetArrayFromImage(sitk.ReadImage(str(path_folder)))\n",
        "\n",
        "    def __len__(self):\n",
        "        return len(self.datas)\n",
        "\n",
        "\n",
        "def save_prediction_to_mri(args, predictions, patient_ids):\n",
        "    os.makedirs('predicted_segs', exist_ok=True)\n",
        "    for idx, patient_id in enumerate(patient_ids):\n",
        "        path = os.path.join(args.data_root, patient_id, patient_id+'_t1.nii.gz')\n",
        "        img_original = nib.load(path)\n",
        "        img_nifti = nib.Nifti1Image(predictions[idx], img_original.affine, header=img_original.header)\n",
        "        nib.save(img_nifti,'predicted_segs/'+patient_id+'_pred.nii.gz') #not as expected\n",
        "\n",
        "_, val_dataset = get_datasets_brats(data_root=args.data_root)\n",
        "val_loader = torch.utils.data.DataLoader(val_dataset, batch_size=args.batch_size, shuffle=False,\n",
        "    pin_memory=False, num_workers=2)\n",
        "\n",
        "print('valid sample:',len(val_dataset), 'valid minibatch:',len(val_loader))\n",
        "model = UNet3D(inplanes=args.in_channels, num_classes=args.num_classes).cuda()\n",
        "model = torch.nn.DataParallel(model)\n",
        "criterion_dice = EDiceLoss().cuda()\n",
        "model.load_state_dict(torch.load(os.path.join(args.ckpt_dir, 'best_oh.pth.tar')))\n",
        "model.eval()\n",
        "with torch.no_grad():\n",
        "    metrics = []\n",
        "    for i, batch in enumerate(val_loader):\n",
        "        targets = batch[\"label\"].squeeze(1).cuda(non_blocking=True)\n",
        "        inputs = batch[\"image\"].float().cuda()\n",
        "        preds = model(inputs)\n",
        "        pred_full = torch.zeros(targets.shape)\n",
        "        preds = preds.data.max(1)[1].squeeze_(1)\n",
        "        pred_full[:,13:141, 24:216, 24:216] = preds.cpu()\n",
        "        if len(targets.shape) < 4:#if batch size=1\n",
        "            targets = targets.unsqueeze(0)\n",
        "        metric_ = criterion_dice.metric_brats(pred_full, targets.cpu())\n",
        "        metrics.extend(metric_)\n",
        "        pred_full = pred_full.permute(0,3,2,1).detach().cpu().numpy()\n",
        "        save_prediction_to_mri(args, pred_full, batch['patient_id'])\n",
        "\n",
        "    metrics = list(zip(*metrics))\n",
        "    metrics = [torch.tensor(dice, device=\"cpu\").numpy() for dice in metrics]\n",
        "    avg_dices = np.mean(metrics,1)\n",
        "\n",
        "print('dice[ET:%.3f, TC:%.3f, WT:%.3f]'%(avg_dices[0], avg_dices[1], avg_dices[2]))\n"
      ],
      "metadata": {
        "id": "rHjwGbL3KIJ9",
        "outputId": "8c756709-cc76-49e7-b2d9-395171f98480",
        "colab": {
          "base_uri": "https://localhost:8080/"
        }
      },
      "execution_count": 74,
      "outputs": [
        {
          "output_type": "stream",
          "name": "stdout",
          "text": [
            "valid sample: 66 valid minibatch: 33\n",
            "dice[ET:0.801, TC:0.861, WT:0.892]\n"
          ]
        }
      ]
    },
    {
      "cell_type": "markdown",
      "source": [
        "Saving the prediction: including padding(default volume 155 244 244)"
      ],
      "metadata": {
        "id": "W0Tt6RRorSlA"
      }
    },
    {
      "cell_type": "code",
      "source": [
        "import argparse\n",
        "import os\n",
        "import numpy as np\n",
        "import pathlib\n",
        "import torch\n",
        "from torch.nn import functional as F\n",
        "from model import UNet3D\n",
        "from datasets import get_datasets_brats\n",
        "from utils import seed_everything, EDiceLoss\n",
        "import nibabel as nib\n",
        "import numpy as np\n",
        "import SimpleITK as sitk\n",
        "import random\n",
        "from glob import glob\n",
        "from torch.utils.data.dataset import Dataset\n",
        "import torch.nn.functional as F\n",
        "from torch.utils.data._utils.collate import default_collate\n",
        "from datasets import custom_collate, determinist_collate, pad_batch_to_max_shape, \\\n",
        "pad_batch1_to_compatible_size, irm_min_max_preprocess, pad_or_crop_image\n",
        "\n",
        "import warnings\n",
        "warnings.filterwarnings(\"ignore\")\n",
        "\n",
        "\n",
        "parser = argparse.ArgumentParser(description='SVLS Brats Training')\n",
        "parser.add_argument('--batch_size', default=2, type=int,help='mini-batch size')\n",
        "parser.add_argument('--num_classes', default=4, type=int, help=\"num of classes\")\n",
        "parser.add_argument('--in_channels', default=4, type=int, help=\"num of input channels\")\n",
        "parser.add_argument('--train_option', default='SVLS', help=\"options:[SVLS, LS, OH]\")\n",
        "parser.add_argument('--epochs', default=200, type=int, help='number of total epochs to run')\n",
        "parser.add_argument('--data_root', default='train_valid', help='data directory')\n",
        "parser.add_argument('--ckpt_dir', default='ckpt_brats19', help='ckpt directory')\n",
        "args = parser.parse_args(args=[])\n",
        "\n",
        "def get_datasets_brats(data_root=None, normalisation=\"zscore\"):\n",
        "\n",
        "    data_root = pathlib.Path(data_root)\n",
        "    base_folder_train = pathlib.Path('data/BraTS19/train_train/').resolve()\n",
        "    base_folder_valid = pathlib.Path('data/BraTS19/train_valid/').resolve()\n",
        "    patients_dir_train = sorted([data_root/x.name for x in base_folder_train.iterdir() if (data_root/x.name).is_dir()])\n",
        "    patients_dir_valid = sorted([data_root/x.name for x in base_folder_valid.iterdir() if (data_root/x.name).is_dir()])\n",
        "    train_dataset = brats19(patients_dir_train, training=True, normalisation=normalisation)\n",
        "    val_dataset = brats19(patients_dir_valid, training=False, normalisation=normalisation)\n",
        "    return train_dataset, val_dataset\n",
        "\n",
        "\n",
        "class brats19(Dataset):\n",
        "    def __init__(self, patients_dir, training=True, no_seg=False, normalisation=\"minmax\"):\n",
        "        super(brats19, self).__init__()\n",
        "        self.normalisation = normalisation\n",
        "        self.training = training\n",
        "        self.datas = []\n",
        "        self.validation = no_seg\n",
        "        self.patterns = [ \"_flair\", \"_t1\", \"_t1ce\", \"_t2\"]\n",
        "        self.mean = dict(flair=0.0860377, t1=0.1216296, t1ce=0.07420689, t2=0.09033176)\n",
        "        if not no_seg:\n",
        "            self.patterns += [\"_seg\"]\n",
        "        for patient_dir in patients_dir:\n",
        "            patient_id = patient_dir.name\n",
        "            paths = [patient_dir / f\"{patient_id}{value}.nii.gz\" for value in self.patterns]\n",
        "            patient = dict(\n",
        "                id=patient_id, flair=paths[0], t1=paths[1], t1ce=paths[2],\n",
        "                t2=paths[3], seg=paths[4] if not no_seg else None\n",
        "            )\n",
        "            self.datas.append(patient)\n",
        "\n",
        "    def __getitem__(self, idx):\n",
        "        _patient = self.datas[idx]\n",
        "        patient_image = {key: self.load_nii(_patient[key]) for key in _patient if key not in [\"id\", \"seg\"]}\n",
        "        if _patient[\"seg\"] is not None:\n",
        "            patient_label = self.load_nii(_patient[\"seg\"])\n",
        "\n",
        "        patient_image = {key: (irm_min_max_preprocess(patient_image[key]) - self.mean[key]) for key in patient_image}\n",
        "        patient_image = np.stack([patient_image[key] for key in patient_image])\n",
        "        patient_label[patient_label==4] = 3\n",
        "        patient_label = patient_label[None,:,:,:]\n",
        "\n",
        "        # Remove maximum extent of the zero-background to make future crop more useful\n",
        "        z_indexes, y_indexes, x_indexes = np.nonzero(np.sum(patient_image, axis=0) != 0)\n",
        "\n",
        "        # Add 1 pixel in each side\n",
        "        zmin, ymin, xmin = [max(0, int(np.min(arr) - 1)) for arr in (z_indexes, y_indexes, x_indexes)]\n",
        "        zmax, ymax, xmax = [int(np.max(arr) + 1) for arr in (z_indexes, y_indexes, x_indexes)]\n",
        "        patient_image, patient_label = patient_image.astype(\"float16\"), patient_label.astype(\"long\")\n",
        "        patient_image, patient_label = [torch.from_numpy(x) for x in [patient_image, patient_label]]\n",
        "        return dict(patient_id=_patient[\"id\"],\n",
        "                    image=patient_image, label=patient_label,\n",
        "                    seg_path=str(_patient[\"seg\"]),\n",
        "                    crop_indexes=((zmin, zmax), (ymin, ymax), (xmin, xmax)),\n",
        "                    )\n",
        "\n",
        "    @staticmethod\n",
        "    def load_nii(path_folder):\n",
        "        return sitk.GetArrayFromImage(sitk.ReadImage(str(path_folder)))\n",
        "\n",
        "    def __len__(self):\n",
        "        return len(self.datas)\n",
        "\n",
        "\n",
        "def save_prediction_to_mri(args, predictions, patient_ids):\n",
        "    os.makedirs('predicted_segs', exist_ok=True)\n",
        "    for idx, patient_id in enumerate(patient_ids):\n",
        "        path = os.path.join(args.data_root, patient_id, patient_id+'_t1.nii.gz')\n",
        "        img_original = nib.load(path)\n",
        "        img_nifti = nib.Nifti1Image(predictions[idx], img_original.affine, header=img_original.header)\n",
        "        nib.save(img_nifti,'predicted_segs/'+patient_id+'_pred.nii.gz') #not as expected\n",
        "\n",
        "_, val_dataset = get_datasets_brats(data_root=args.data_root)\n",
        "val_loader = torch.utils.data.DataLoader(val_dataset, batch_size=args.batch_size, shuffle=False,\n",
        "    pin_memory=False, num_workers=2)\n",
        "\n",
        "print('valid sample:',len(val_dataset), 'valid minibatch:',len(val_loader))\n",
        "model = UNet3D(inplanes=args.in_channels, num_classes=args.num_classes).cuda()\n",
        "model = torch.nn.DataParallel(model)\n",
        "criterion_dice = EDiceLoss().cuda()\n",
        "model.load_state_dict(torch.load(os.path.join(args.ckpt_dir, 'best_oh.pth.tar')))\n",
        "model.eval()\n",
        "with torch.no_grad():\n",
        "    metrics = []\n",
        "    for i, batch in enumerate(val_loader):\n",
        "        targets = batch[\"label\"].squeeze(1).cuda(non_blocking=True)\n",
        "        inputs = batch[\"image\"].float().cuda()\n",
        "        preds = model(inputs)\n",
        "        preds = preds.data.max(1)[1].squeeze_(1)\n",
        "        if len(targets.shape) < 4:#if batch size=1\n",
        "            targets = targets.unsqueeze(0)\n",
        "        metric_ = criterion_dice.metric_brats(preds, targets)\n",
        "        metrics.extend(metric_)\n",
        "        preds = preds.permute(0,3,2,1).detach().cpu().numpy()\n",
        "        save_prediction_to_mri(args, preds, batch['patient_id'])\n",
        "\n",
        "    metrics = list(zip(*metrics))\n",
        "    metrics = [torch.tensor(dice, device=\"cpu\").numpy() for dice in metrics]\n",
        "    avg_dices = np.mean(metrics,1)\n",
        "\n",
        "print('dice[ET:%.3f, TC:%.3f, WT:%.3f]'%(avg_dices[0], avg_dices[1], avg_dices[2]))\n"
      ],
      "metadata": {
        "colab": {
          "base_uri": "https://localhost:8080/"
        },
        "id": "j3M_BFs5f_Da",
        "outputId": "fa64ab0f-3733-4257-f16f-aa357e8286b5"
      },
      "execution_count": 9,
      "outputs": [
        {
          "output_type": "stream",
          "name": "stdout",
          "text": [
            "valid sample: 66 valid minibatch: 33\n",
            "dice[ET:0.776, TC:0.826, WT:0.872]\n"
          ]
        }
      ]
    },
    {
      "cell_type": "markdown",
      "source": [
        "Saving the prediction: excluding padding"
      ],
      "metadata": {
        "id": "TzDxoh9zd-ng"
      }
    },
    {
      "cell_type": "code",
      "source": [
        "import argparse\n",
        "import os\n",
        "import numpy as np\n",
        "import pathlib\n",
        "import torch\n",
        "from torch.nn import functional as F\n",
        "from model import UNet3D\n",
        "from datasets import get_datasets_brats\n",
        "from utils import seed_everything, EDiceLoss\n",
        "import nibabel as nib\n",
        "import numpy as np\n",
        "import SimpleITK as sitk\n",
        "import random\n",
        "from glob import glob\n",
        "from torch.utils.data.dataset import Dataset\n",
        "import torch.nn.functional as F\n",
        "from torch.utils.data._utils.collate import default_collate\n",
        "from datasets import custom_collate, determinist_collate, pad_batch_to_max_shape, \\\n",
        "pad_batch1_to_compatible_size, irm_min_max_preprocess, pad_or_crop_image\n",
        "\n",
        "import warnings\n",
        "warnings.filterwarnings(\"ignore\")\n",
        "\n",
        "\n",
        "parser = argparse.ArgumentParser(description='SVLS Brats Training')\n",
        "parser.add_argument('--batch_size', default=1, type=int,help='mini-batch size')\n",
        "parser.add_argument('--num_classes', default=4, type=int, help=\"num of classes\")\n",
        "parser.add_argument('--in_channels', default=4, type=int, help=\"num of input channels\")\n",
        "parser.add_argument('--train_option', default='SVLS', help=\"options:[SVLS, LS, OH]\")\n",
        "parser.add_argument('--epochs', default=200, type=int, help='number of total epochs to run')\n",
        "parser.add_argument('--data_root', default='train_valid', help='data directory')\n",
        "parser.add_argument('--ckpt_dir', default='ckpt_brats19', help='ckpt directory')\n",
        "args = parser.parse_args(args=[])\n",
        "\n",
        "def get_datasets_brats(data_root=None, normalisation=\"zscore\"):\n",
        "\n",
        "    data_root = pathlib.Path(data_root)\n",
        "    base_folder_train = pathlib.Path('data/BraTS19/train_train/').resolve()\n",
        "    base_folder_valid = pathlib.Path('data/BraTS19/train_valid/').resolve()\n",
        "    patients_dir_train = sorted([data_root/x.name for x in base_folder_train.iterdir() if (data_root/x.name).is_dir()])\n",
        "    patients_dir_valid = sorted([data_root/x.name for x in base_folder_valid.iterdir() if (data_root/x.name).is_dir()])\n",
        "    train_dataset = brats19(patients_dir_train, training=True, normalisation=normalisation)\n",
        "    val_dataset = brats19(patients_dir_valid, training=False, normalisation=normalisation)\n",
        "    return train_dataset, val_dataset\n",
        "\n",
        "\n",
        "class brats19(Dataset):\n",
        "    def __init__(self, patients_dir, training=True, no_seg=False, normalisation=\"minmax\"):\n",
        "        super(brats19, self).__init__()\n",
        "        self.normalisation = normalisation\n",
        "        self.training = training\n",
        "        self.datas = []\n",
        "        self.validation = no_seg\n",
        "        self.patterns = [ \"_flair\", \"_t1\", \"_t1ce\", \"_t2\"]\n",
        "        # self.mean = dict(flair=0.0860377, t1=0.1216296, t1ce=0.07420689, t2=0.09033176)\n",
        "        self.mean = [0.0860377, 0.1216296, 0.07420689, 0.09033176]\n",
        "        if not no_seg:\n",
        "            self.patterns += [\"_seg\"]\n",
        "        for patient_dir in patients_dir:\n",
        "            patient_id = patient_dir.name\n",
        "            paths = [patient_dir / f\"{patient_id}{value}.nii.gz\" for value in self.patterns]\n",
        "            patient = dict(\n",
        "                id=patient_id, flair=paths[0], t1=paths[1], t1ce=paths[2],\n",
        "                t2=paths[3], seg=paths[4] if not no_seg else None\n",
        "            )\n",
        "            self.datas.append(patient)\n",
        "\n",
        "    def __getitem__(self, idx):\n",
        "        _patient = self.datas[idx]\n",
        "        patient_image = {key: self.load_nii(_patient[key]) for key in _patient if key not in [\"id\", \"seg\"]}\n",
        "        if _patient[\"seg\"] is not None:\n",
        "            patient_label = self.load_nii(_patient[\"seg\"])\n",
        "\n",
        "        # Remove maximum extent of the zero-background to make future crop more useful\n",
        "        patient_image = np.stack([patient_image[key] for key in patient_image])\n",
        "        z_indexes, y_indexes, x_indexes = np.nonzero(np.sum(patient_image, axis=0) != 0)\n",
        "\n",
        "        # Add 1 pixel in each side\n",
        "        zmin, ymin, xmin = [max(0, int(np.min(arr) - 1)) for arr in (z_indexes, y_indexes, x_indexes)]\n",
        "        zmax, ymax, xmax = [int(np.max(arr) + 1) for arr in (z_indexes, y_indexes, x_indexes)]\n",
        "        patient_image = [(irm_min_max_preprocess(patient_image[mod_idx]) - self.mean[mod_idx]) for mod_idx, key in enumerate(patient_image)]\n",
        "        patient_image = np.stack(patient_image)\n",
        "        patient_label[patient_label==4] = 3\n",
        "        patient_label = patient_label[None,:,:,:]\n",
        "        patient_image = patient_image[:, zmin:zmax, ymin:ymax, xmin:xmax]\n",
        "        patient_image, patient_label = patient_image.astype(\"float16\"), patient_label.astype(\"long\")\n",
        "        patient_image, patient_label = [torch.from_numpy(x) for x in [patient_image, patient_label]]\n",
        "        return dict(patient_id=_patient[\"id\"],\n",
        "                    image=patient_image, label=patient_label,\n",
        "                    seg_path=str(_patient[\"seg\"]),\n",
        "                    crop_indexes=((zmin, zmax), (ymin, ymax), (xmin, xmax)),\n",
        "                    )\n",
        "\n",
        "    @staticmethod\n",
        "    def load_nii(path_folder):\n",
        "        return sitk.GetArrayFromImage(sitk.ReadImage(str(path_folder)))\n",
        "\n",
        "    def __len__(self):\n",
        "        return len(self.datas)\n",
        "\n",
        "\n",
        "def save_prediction_to_mri(args, predictions, patient_ids):\n",
        "    os.makedirs('predicted_segs', exist_ok=True)\n",
        "    for idx, patient_id in enumerate(patient_ids):\n",
        "        path = os.path.join(args.data_root, patient_id, patient_id+'_t1.nii.gz')\n",
        "        img_original = nib.load(path)\n",
        "        img_nifti = nib.Nifti1Image(predictions[idx], img_original.affine, header=img_original.header)\n",
        "        nib.save(img_nifti,'predicted_segs/'+patient_id+'_pred.nii.gz') #not as expected\n",
        "\n",
        "_, val_dataset = get_datasets_brats(data_root=args.data_root)\n",
        "val_loader = torch.utils.data.DataLoader(val_dataset, batch_size=args.batch_size, shuffle=False,\n",
        "    pin_memory=False, num_workers=2)\n",
        "\n",
        "print('valid sample:',len(val_dataset), 'valid minibatch:',len(val_loader))\n",
        "model = UNet3D(inplanes=args.in_channels, num_classes=args.num_classes).cuda()\n",
        "model = torch.nn.DataParallel(model)\n",
        "criterion_dice = EDiceLoss().cuda()\n",
        "model.load_state_dict(torch.load(os.path.join(args.ckpt_dir, 'best_oh.pth.tar')))\n",
        "model.eval()\n",
        "with torch.no_grad():\n",
        "    metrics = []\n",
        "    for i, batch in enumerate(val_loader):\n",
        "        targets = batch[\"label\"].squeeze(1).cuda(non_blocking=True)\n",
        "        inputs = batch[\"image\"].float().cuda()\n",
        "        ((zmin, zmax), (ymin, ymax), (xmin, xmax)) = batch[\"crop_indexes\"]\n",
        "        ((zmin, zmax), (ymin, ymax), (xmin, xmax)) = ((zmin.item(), zmax.item()), (ymin.item(), ymax.item()), (xmin.item(), xmax.item()))\n",
        "        pred_full = torch.zeros(targets.shape)\n",
        "        preds = model(inputs)\n",
        "        preds = preds.data.max(1)[1].squeeze_(1)\n",
        "        if len(targets.shape) < 4:#if batch size=1\n",
        "            targets = targets.unsqueeze(0)\n",
        "\n",
        "        pred_full[:,zmin:zmax, ymin:ymax, xmin:xmax] = preds.cpu()\n",
        "        metric_ = criterion_dice.metric_brats(pred_full, targets.cpu())\n",
        "        metrics.extend(metric_)\n",
        "        pred_full = pred_full.permute(0,3,2,1).detach().cpu().numpy()\n",
        "        save_prediction_to_mri(args, pred_full, batch['patient_id'])\n",
        "\n",
        "    metrics = list(zip(*metrics))\n",
        "    metrics = [torch.tensor(dice, device=\"cpu\").numpy() for dice in metrics]\n",
        "    avg_dices = np.mean(metrics,1)\n",
        "\n",
        "print('dice[ET:%.3f, TC:%.3f, WT:%.3f]'%(avg_dices[0], avg_dices[1], avg_dices[2]))\n"
      ],
      "metadata": {
        "colab": {
          "base_uri": "https://localhost:8080/"
        },
        "id": "oPAZ2Bk-cR01",
        "outputId": "9191abdd-855f-4aff-c3dd-efe9edbad764"
      },
      "execution_count": 56,
      "outputs": [
        {
          "output_type": "stream",
          "name": "stdout",
          "text": [
            "valid sample: 66 valid minibatch: 66\n",
            "dice[ET:0.788, TC:0.817, WT:0.860]\n"
          ]
        }
      ]
    }
  ]
}