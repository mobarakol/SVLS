{
  "nbformat": 4,
  "nbformat_minor": 0,
  "metadata": {
    "colab": {
      "name": "SVLS_2D.ipynb",
      "provenance": [],
      "authorship_tag": "ABX9TyPGfwZsu0eKf4uyT3F7WGOS",
      "include_colab_link": true
    },
    "kernelspec": {
      "name": "python3",
      "display_name": "Python 3"
    },
    "language_info": {
      "name": "python"
    }
  },
  "cells": [
    {
      "cell_type": "markdown",
      "metadata": {
        "id": "view-in-github",
        "colab_type": "text"
      },
      "source": [
        "<a href=\"https://colab.research.google.com/github/mobarakol/SVLS/blob/main/SVLS_2D.ipynb\" target=\"_parent\"><img src=\"https://colab.research.google.com/assets/colab-badge.svg\" alt=\"Open In Colab\"/></a>"
      ]
    },
    {
      "cell_type": "markdown",
      "source": [
        "This notebook contains an implementation of SVLS for 2D image segmentation."
      ],
      "metadata": {
        "id": "dSGkKfzG3Sw8"
      }
    },
    {
      "cell_type": "code",
      "execution_count": 16,
      "metadata": {
        "id": "IHaNNxQz3FAX"
      },
      "outputs": [],
      "source": [
        "import torch\n",
        "import torch.nn.functional as F\n",
        "import math\n",
        "\n",
        "def get_gaussian_kernel_2d(ksize=0, sigma=0):\n",
        "    x_grid = torch.arange(ksize).repeat(ksize).view(ksize, ksize)\n",
        "    y_grid = x_grid.t()\n",
        "    xy_grid = torch.stack([x_grid, y_grid], dim=-1).float()\n",
        "    mean = (ksize - 1)/2.\n",
        "    variance = sigma**2.\n",
        "    gaussian_kernel = (1./(2.*math.pi*variance + 1e-16)) * torch.exp( \n",
        "        -torch.sum((xy_grid - mean)**2., dim=-1) / (2*variance + 1e-16)\n",
        "        )\n",
        "    return gaussian_kernel / torch.sum(gaussian_kernel)\n",
        "\n",
        "class get_svls_filter_2d(torch.nn.Module):\n",
        "    def __init__(self, ksize=3, sigma=0, channels=0):\n",
        "        super(get_svls_filter_2d, self).__init__()\n",
        "        gkernel = get_gaussian_kernel_2d(ksize=ksize, sigma=sigma)\n",
        "        neighbors_sum = (1 - gkernel[1,1]) + 1e-16\n",
        "        gkernel[int(ksize/2), int(ksize/2)] = neighbors_sum\n",
        "        self.svls_kernel = gkernel / neighbors_sum\n",
        "        svls_kernel_2d = self.svls_kernel.view(1, 1, ksize, ksize)\n",
        "        svls_kernel_2d = svls_kernel_2d.repeat(channels, 1, 1, 1)\n",
        "        padding = int(ksize/2)\n",
        "        self.svls_layer = torch.nn.Conv2d(in_channels=channels, out_channels=channels,\n",
        "                                    kernel_size=ksize, groups=channels,\n",
        "                                    bias=False, padding=padding, padding_mode='replicate')\n",
        "        self.svls_layer.weight.data = svls_kernel_2d\n",
        "        self.svls_layer.weight.requires_grad = False\n",
        "    def forward(self, x):\n",
        "        return self.svls_layer(x) / self.svls_kernel.sum()\n",
        "\n",
        "class CELossWithSVLS_2D(torch.nn.Module):\n",
        "    def __init__(self, classes=None, sigma=1, ksize=3):\n",
        "        super(CELossWithSVLS_2D, self).__init__()\n",
        "        self.cls = torch.tensor(classes)\n",
        "        self.svls_layer = get_svls_filter_2d(ksize=3, sigma=sigma, channels=self.cls)\n",
        "\n",
        "    def forward(self, inputs, labels):\n",
        "        oh_labels = F.one_hot(labels.to(torch.int64), num_classes = self.cls).contiguous().permute(0,3,1,2).float()\n",
        "        svls_labels = self.svls_layer(oh_labels)\n",
        "        return (- svls_labels * F.log_softmax(inputs, dim=1)).sum(dim=1).mean()"
      ]
    },
    {
      "cell_type": "markdown",
      "source": [
        "Toy example:"
      ],
      "metadata": {
        "id": "OPMupEMd3054"
      }
    },
    {
      "cell_type": "code",
      "source": [
        "num_classes = 3\n",
        "label = torch.tensor([[1,1,1,1],[1,1,1,0],[0,0,0,0],[0,0,0,0]])\n",
        "labels = label[None]\n",
        "seg_logits = torch.rand(1, 3, 4, 4)#F.one_hot(labels.to(torch.int64), num_classes = num_classes).contiguous().permute(0,3,1,2).float()\n",
        "criterion = CELossWithSVLS_2D(ksize=3, sigma=1, classes=num_classes)#.cuda()\n",
        "loss_svls = criterion(seg_logits, labels)\n",
        "loss_ce = F.cross_entropy(seg_logits.float(), labels.long())\n",
        "print('Loss: svls={:0.4f}, ce={:0.4f}'.format(loss_svls.item(), loss_ce.item()))"
      ],
      "metadata": {
        "colab": {
          "base_uri": "https://localhost:8080/"
        },
        "id": "QSYRooGc32Mk",
        "outputId": "9f9bcfe8-cb28-4616-8402-faacc5961d4b"
      },
      "execution_count": 18,
      "outputs": [
        {
          "output_type": "stream",
          "name": "stdout",
          "text": [
            "Loss: svls=1.0413, ce=1.0164\n"
          ]
        },
        {
          "output_type": "stream",
          "name": "stderr",
          "text": [
            "/usr/local/lib/python3.7/dist-packages/torch/nn/modules/conv.py:132: UserWarning: __floordiv__ is deprecated, and its behavior will change in a future version of pytorch. It currently rounds toward 0 (like the 'trunc' function NOT 'floor'). This results in incorrect rounding for negative values. To keep the current behavior, use torch.div(a, b, rounding_mode='trunc'), or for actual floor division, use torch.div(a, b, rounding_mode='floor').\n",
            "  (out_channels, in_channels // groups, *kernel_size), **factory_kwargs))\n"
          ]
        }
      ]
    },
    {
      "cell_type": "code",
      "source": [
        ""
      ],
      "metadata": {
        "id": "g4RqcsiW5Gz9"
      },
      "execution_count": null,
      "outputs": []
    }
  ]
}